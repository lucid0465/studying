{
 "cells": [
  {
   "cell_type": "markdown",
   "id": "767c9365",
   "metadata": {},
   "source": [
    "## 1. 인덱싱/슬라이싱\n",
    "## 1) 인덱싱"
   ]
  },
  {
   "cell_type": "code",
   "execution_count": 3,
   "id": "2a61d044",
   "metadata": {},
   "outputs": [
    {
     "name": "stdout",
     "output_type": "stream",
     "text": [
      "P\n",
      "P\n",
      "H\n",
      "!\n"
     ]
    }
   ],
   "source": [
    "stra = \"Hello, Python!!\"\n",
    "\n",
    "print(stra[7])\n",
    "print(stra[-8])\n",
    "\n",
    "print(stra[0])\n",
    "print(stra[-1])"
   ]
  },
  {
   "cell_type": "markdown",
   "id": "5ae630e7",
   "metadata": {},
   "source": [
    "## 2) 슬라이싱"
   ]
  },
  {
   "cell_type": "code",
   "execution_count": 5,
   "id": "6fdc551d",
   "metadata": {},
   "outputs": [
    {
     "name": "stdout",
     "output_type": "stream",
     "text": [
      "Life\n",
      "Life\n",
      "Life\n"
     ]
    }
   ],
   "source": [
    "stra = \"Life is too short, you need python\"\n",
    "\n",
    "#Life 추출 \n",
    "print(stra[0:4:1])\n",
    "print(stra[:4:1])\n",
    "print(stra[:4])\n",
    "\n"
   ]
  },
  {
   "cell_type": "code",
   "execution_count": 8,
   "id": "9b1a5fc7",
   "metadata": {},
   "outputs": [
    {
     "name": "stdout",
     "output_type": "stream",
     "text": [
      "Life is too short, you need python\n",
      "Lf stosot o edpto\n",
      "nohtyp deen uoy ,trohs oot si efiL\n"
     ]
    }
   ],
   "source": [
    "# 전체 문장 추출\n",
    "print(stra[:])\n",
    "\n",
    "# 전체 문장 추출 (한칸 건너 띄어서 문자 가져오기)\n",
    "print(stra[::2])\n",
    "\n",
    "# 문장을 뒤에서부터 가져오기\n",
    "print(stra[::-1])"
   ]
  },
  {
   "cell_type": "code",
   "execution_count": 15,
   "id": "cc411ed9",
   "metadata": {},
   "outputs": [
    {
     "name": "stdout",
     "output_type": "stream",
     "text": [
      "HeIlo\n"
     ]
    }
   ],
   "source": [
    "stra = \"HeLlo\"\n",
    "\n",
    "# stra[2] = \"l\"\n",
    "\n",
    "strb = stra[0:2] + \"I\" + stra[3:5]\n",
    "print(strb)"
   ]
  },
  {
   "cell_type": "code",
   "execution_count": 23,
   "id": "50b80781",
   "metadata": {},
   "outputs": [
    {
     "name": "stdout",
     "output_type": "stream",
     "text": [
      "98 12 25 3\n",
      "생년월일 : 98 년 12 월 25 일\n",
      "남녀구분 : 남자\n"
     ]
    }
   ],
   "source": [
    "# 주민등록번호로 유용한 정보 추출하기\n",
    "\n",
    "resno = \"981225-3032223\"\n",
    "\n",
    "year = resno[0:2]\n",
    "mon = resno[2:4]\n",
    "date = resno[4:6]\n",
    "\n",
    "gubun = resno[7]\n",
    "\n",
    "print(year, mon, date, gubun)\n",
    "\n",
    "if gubun in[\"1\",\"3\"]:\n",
    "    gubun = \"남자\"\n",
    "else:\n",
    "    gubun = \"여자\"\n",
    "    \n",
    "print(\"생년월일 :\", year, \"년\", mon, \"월\", date, \"일\")\n",
    "print(\"남녀구분 :\", gubun)\n",
    "\n"
   ]
  },
  {
   "cell_type": "code",
   "execution_count": 26,
   "id": "e32e8861",
   "metadata": {},
   "outputs": [
    {
     "data": {
      "text/plain": [
       "'pyt'"
      ]
     },
     "execution_count": 26,
     "metadata": {},
     "output_type": "execute_result"
    }
   ],
   "source": [
    "stra = \"Life is too short, you need python\"\n",
    "\n",
    "stra[-6:-3]"
   ]
  },
  {
   "cell_type": "markdown",
   "id": "4d5ef46e",
   "metadata": {},
   "source": [
    "## 2. 문자열 메서드\n",
    "\n",
    "### 1)검색 메서드"
   ]
  },
  {
   "cell_type": "code",
   "execution_count": 32,
   "id": "8e9d6746",
   "metadata": {},
   "outputs": [
    {
     "name": "stdout",
     "output_type": "stream",
     "text": [
      "6\n",
      "3\n",
      "-1\n"
     ]
    }
   ],
   "source": [
    "values = \"Hello Python!, Hello Python world!\"\n",
    "\n",
    "# find \"P\", \"lo\"\n",
    "print(values.find(\"P\"))\n",
    "print(values.find(\"lo\"))\n",
    "print(values.find(\"k\"))"
   ]
  },
  {
   "cell_type": "code",
   "execution_count": 35,
   "id": "1ea6b793",
   "metadata": {},
   "outputs": [
    {
     "name": "stdout",
     "output_type": "stream",
     "text": [
      "21\n",
      "18\n",
      "-1\n"
     ]
    }
   ],
   "source": [
    "#rfind \"P\"\n",
    "print(values.rfind(\"P\"))\n",
    "print(values.rfind(\"lo\"))\n",
    "print(values.find(\"k\"))"
   ]
  },
  {
   "cell_type": "code",
   "execution_count": 39,
   "id": "bea286eb",
   "metadata": {},
   "outputs": [
    {
     "name": "stdout",
     "output_type": "stream",
     "text": [
      "6\n",
      "3\n"
     ]
    },
    {
     "ename": "ValueError",
     "evalue": "substring not found",
     "output_type": "error",
     "traceback": [
      "\u001b[1;31m---------------------------------------------------------------------------\u001b[0m",
      "\u001b[1;31mValueError\u001b[0m                                Traceback (most recent call last)",
      "Cell \u001b[1;32mIn[39], line 4\u001b[0m\n\u001b[0;32m      2\u001b[0m \u001b[38;5;28mprint\u001b[39m(values\u001b[38;5;241m.\u001b[39mindex(\u001b[38;5;124m\"\u001b[39m\u001b[38;5;124mP\u001b[39m\u001b[38;5;124m\"\u001b[39m))\n\u001b[0;32m      3\u001b[0m \u001b[38;5;28mprint\u001b[39m(values\u001b[38;5;241m.\u001b[39mindex(\u001b[38;5;124m\"\u001b[39m\u001b[38;5;124mlo\u001b[39m\u001b[38;5;124m\"\u001b[39m))\n\u001b[1;32m----> 4\u001b[0m \u001b[38;5;28mprint\u001b[39m(\u001b[43mvalues\u001b[49m\u001b[38;5;241;43m.\u001b[39;49m\u001b[43mindex\u001b[49m\u001b[43m(\u001b[49m\u001b[38;5;124;43m\"\u001b[39;49m\u001b[38;5;124;43mk\u001b[39;49m\u001b[38;5;124;43m\"\u001b[39;49m\u001b[43m)\u001b[49m)\n",
      "\u001b[1;31mValueError\u001b[0m: substring not found"
     ]
    }
   ],
   "source": [
    "# index\n",
    "print(values.index(\"P\"))\n",
    "print(values.index(\"lo\"))\n",
    "print(values.index(\"k\"))"
   ]
  },
  {
   "cell_type": "code",
   "execution_count": 40,
   "id": "c92ae543",
   "metadata": {},
   "outputs": [
    {
     "name": "stdout",
     "output_type": "stream",
     "text": [
      "21\n",
      "18\n"
     ]
    },
    {
     "ename": "ValueError",
     "evalue": "substring not found",
     "output_type": "error",
     "traceback": [
      "\u001b[1;31m---------------------------------------------------------------------------\u001b[0m",
      "\u001b[1;31mValueError\u001b[0m                                Traceback (most recent call last)",
      "Cell \u001b[1;32mIn[40], line 4\u001b[0m\n\u001b[0;32m      2\u001b[0m \u001b[38;5;28mprint\u001b[39m(values\u001b[38;5;241m.\u001b[39mrindex(\u001b[38;5;124m\"\u001b[39m\u001b[38;5;124mP\u001b[39m\u001b[38;5;124m\"\u001b[39m))\n\u001b[0;32m      3\u001b[0m \u001b[38;5;28mprint\u001b[39m(values\u001b[38;5;241m.\u001b[39mrindex(\u001b[38;5;124m\"\u001b[39m\u001b[38;5;124mlo\u001b[39m\u001b[38;5;124m\"\u001b[39m))\n\u001b[1;32m----> 4\u001b[0m \u001b[38;5;28mprint\u001b[39m(\u001b[43mvalues\u001b[49m\u001b[38;5;241;43m.\u001b[39;49m\u001b[43mrindex\u001b[49m\u001b[43m(\u001b[49m\u001b[38;5;124;43m\"\u001b[39;49m\u001b[38;5;124;43mk\u001b[39;49m\u001b[38;5;124;43m\"\u001b[39;49m\u001b[43m)\u001b[49m)\n",
      "\u001b[1;31mValueError\u001b[0m: substring not found"
     ]
    }
   ],
   "source": [
    "# rindex\n",
    "print(values.rindex(\"P\"))\n",
    "print(values.rindex(\"lo\"))\n",
    "print(values.rindex(\"k\"))\n"
   ]
  },
  {
   "cell_type": "code",
   "execution_count": 43,
   "id": "e271cbf0",
   "metadata": {},
   "outputs": [
    {
     "name": "stdout",
     "output_type": "stream",
     "text": [
      "2\n",
      "34\n"
     ]
    }
   ],
   "source": [
    "values = \"Hello Python!, Hello Python world!\"\n",
    "\n",
    "# count, len\n",
    "\n",
    "print(values.count(\"P\"))\n",
    "print(len(values))"
   ]
  },
  {
   "cell_type": "markdown",
   "id": "9d172f90",
   "metadata": {},
   "source": [
    "## 2) 조사 메서드"
   ]
  },
  {
   "cell_type": "code",
   "execution_count": 44,
   "id": "f9a551a6",
   "metadata": {},
   "outputs": [
    {
     "name": "stdout",
     "output_type": "stream",
     "text": [
      "True\n",
      "False\n"
     ]
    }
   ],
   "source": [
    "# in not in\n",
    "\n",
    "values = \"Hello Python!, Hello Python World!\"\n",
    "\n",
    "print(\"Python\" in values)\n",
    "print((\"Python\" not in values))"
   ]
  },
  {
   "cell_type": "code",
   "execution_count": 50,
   "id": "c2a75070",
   "metadata": {},
   "outputs": [
    {
     "name": "stdout",
     "output_type": "stream",
     "text": [
      "True\n"
     ]
    },
    {
     "data": {
      "text/plain": [
       "True"
      ]
     },
     "execution_count": 50,
     "metadata": {},
     "output_type": "execute_result"
    }
   ],
   "source": [
    "# startswith, endwith\n",
    "\n",
    "print(values.startswith(\"Hello\"))\n",
    "values.endswith(\"World!\")"
   ]
  },
  {
   "cell_type": "code",
   "execution_count": 51,
   "id": "50e577b8",
   "metadata": {},
   "outputs": [
    {
     "name": "stdout",
     "output_type": "stream",
     "text": [
      "False\n",
      "False\n",
      "False\n",
      "True\n",
      "True\n",
      "True\n"
     ]
    }
   ],
   "source": [
    "# isalpha, islower, isupper, \n",
    "print(values.isalpha())\n",
    "print(values.islower())\n",
    "print(values.isupper())\n",
    "\n",
    "print(\"abcABC\".isalpha())\n",
    "print(\"abc\".islower())\n",
    "print(\"ABC\".isupper())"
   ]
  },
  {
   "cell_type": "code",
   "execution_count": 59,
   "id": "865cf412",
   "metadata": {},
   "outputs": [
    {
     "name": "stdout",
     "output_type": "stream",
     "text": [
      "False\n",
      "False\n",
      "False\n",
      "False\n",
      "False\n",
      "--------------------\n",
      "True\n",
      "True\n",
      "True\n",
      "True\n",
      "True\n"
     ]
    }
   ],
   "source": [
    "# isspace, isalnum, isdigit, isdecimal, isnumeric\n",
    "values = \"Hello Python!, Hello Python world!\"\n",
    "\n",
    "print(values.isalnum())\n",
    "print(values.isdigit())\n",
    "print(values.isspace())\n",
    "print(values.isdecimal())\n",
    "print(values.isnumeric())\n",
    "print(\"--------------------\")\n",
    "print(\"   \".isspace())\n",
    "print(\"105aaa\".isalnum())\n",
    "print(\"105\".isdigit())\n",
    "print(\"105\".isdecimal())\n",
    "print(\"105\".isnumeric())"
   ]
  },
  {
   "cell_type": "markdown",
   "id": "e4f3f6ad",
   "metadata": {},
   "source": [
    "## 3) 변경 메서드"
   ]
  },
  {
   "cell_type": "code",
   "execution_count": 61,
   "id": "4c30d614",
   "metadata": {},
   "outputs": [
    {
     "name": "stdout",
     "output_type": "stream",
     "text": [
      "hello python!, hello python world!\n",
      "HELLO PYTHON!, HELLO PYTHON WORLD!\n",
      "hELLO pYTHON!, hELLO pYTHON WORLD!\n",
      "Hello python!, hello python world!\n",
      "Hello Python!, Hello Python World!\n"
     ]
    }
   ],
   "source": [
    "# lower, upper, swapcase, capitalize, title\n",
    "\n",
    "values = \"Hello Python!, Hello Python world!\"\n",
    "\n",
    "print(values.lower())\n",
    "print(values.upper())\n",
    "print(values.swapcase())\n",
    "print(values.capitalize())\n",
    "print(values.title())"
   ]
  },
  {
   "cell_type": "code",
   "execution_count": 64,
   "id": "d2c28382",
   "metadata": {},
   "outputs": [
    {
     "name": "stdout",
     "output_type": "stream",
     "text": [
      "-----Hello Python!, Hello Python world!-----\n",
      "-----Hello Python!, Hello Python world!     -----\n",
      "-----     Hello Python!, Hello Python world!-----\n"
     ]
    }
   ],
   "source": [
    "#strip, istrip, rstrip\n",
    "values = \"     Hello Python!, Hello Python world!     \"\n",
    "\n",
    "print(\"-----\" + values.strip() + \"-----\")\n",
    "print(\"-----\" + values.lstrip() + \"-----\")\n",
    "print(\"-----\" + values.rstrip() + \"-----\")\n"
   ]
  },
  {
   "cell_type": "markdown",
   "id": "9d055b8e",
   "metadata": {},
   "source": [
    "### 4) 분할 메서드"
   ]
  },
  {
   "cell_type": "code",
   "execution_count": 71,
   "id": "de9ec62f",
   "metadata": {},
   "outputs": [
    {
     "name": "stdout",
     "output_type": "stream",
     "text": [
      "['orange', 'apple', 'banana', 'mango']\n",
      "['Hello Python!', 'Life is too short']\n"
     ]
    }
   ],
   "source": [
    "# split, splitlines\n",
    "\n",
    "values = \"orange, apple, banana, mango\"\n",
    "\n",
    "print(values.split(\", \"))\n",
    "\n",
    "values = \"Hello Python!\\nLife is too short\"\n",
    "print(values.splitlines())"
   ]
  },
  {
   "cell_type": "code",
   "execution_count": 75,
   "id": "137b9cc5",
   "metadata": {},
   "outputs": [
    {
     "name": "stdout",
     "output_type": "stream",
     "text": [
      "a:b:c:d:e\n"
     ]
    }
   ],
   "source": [
    "#join\n",
    "\n",
    "values = \"abcde\"\n",
    "#print(\",\".join(values))\n",
    "print(\":\".join(values))"
   ]
  },
  {
   "cell_type": "markdown",
   "id": "0ea01e76",
   "metadata": {},
   "source": [
    "## 5) 대체/정렬 메서드"
   ]
  },
  {
   "cell_type": "code",
   "execution_count": 81,
   "id": "ed1acdfc",
   "metadata": {},
   "outputs": [
    {
     "name": "stdout",
     "output_type": "stream",
     "text": [
      "orange, 사과, banana, mango, 사과, mango, 사과\n",
      "orange, 사과, banana, mango, 사과, mango, apple\n"
     ]
    }
   ],
   "source": [
    "# replace\n",
    "\n",
    "values = \"orange, apple, banana, mango, apple, mango, apple\"\n",
    "\n",
    "print(values.replace(\"apple\", \"사과\"))\n",
    "print(values.replace(\"apple\", \"사과\", 2))"
   ]
  },
  {
   "cell_type": "code",
   "execution_count": 83,
   "id": "07dc5484",
   "metadata": {},
   "outputs": [
    {
     "name": "stdout",
     "output_type": "stream",
     "text": [
      "=====orange, apple, banana, mango, apple, mango, apple           -----\n",
      "=====           orange, apple, banana, mango, apple, mango, apple-----\n",
      "=====     orange, apple, banana, mango, apple, mango, apple      -----\n"
     ]
    }
   ],
   "source": [
    "# ljust, rjust, center\n",
    "\n",
    "print(\"=====\" + values.ljust(60) + \"-----\")\n",
    "print(\"=====\" + values.rjust(60) + \"-----\")\n",
    "print(\"=====\" + values.center(60) + \"-----\")"
   ]
  },
  {
   "cell_type": "markdown",
   "id": "bce6743f",
   "metadata": {},
   "source": [
    "## 3. 포매팅 \n",
    "### 1) +연산자를 사용한 포매팅"
   ]
  },
  {
   "cell_type": "code",
   "execution_count": 84,
   "id": "50bcac10",
   "metadata": {},
   "outputs": [
    {
     "name": "stdout",
     "output_type": "stream",
     "text": [
      "이름 :홍길동나이 :30\n"
     ]
    }
   ],
   "source": [
    "# + 연산자를 사용한 포매팅\n",
    "\n",
    "name = \"홍길동\"\n",
    "age = 30\n",
    "print(\"이름 :\" + name + \"나이 :\" + str(age))"
   ]
  },
  {
   "cell_type": "markdown",
   "id": "d6e482ae",
   "metadata": {},
   "source": [
    "### 2)표식을 사용한 포매팅"
   ]
  },
  {
   "cell_type": "code",
   "execution_count": 90,
   "id": "a0bc325c",
   "metadata": {},
   "outputs": [
    {
     "name": "stdout",
     "output_type": "stream",
     "text": [
      "l eat 3 oranges\n",
      "l eat 3          oranges\n"
     ]
    }
   ],
   "source": [
    "# 정수형 표식 : %d\n",
    "\n",
    "num = 3\n",
    "print(\"l eat %d oranges\" % num)\n",
    "\n",
    "# 좌측정렬, 10자리수\n",
    "print(\"l eat %-10d oranges\" % num)"
   ]
  },
  {
   "cell_type": "code",
   "execution_count": 92,
   "id": "46ca4f3e",
   "metadata": {},
   "outputs": [
    {
     "name": "stdout",
     "output_type": "stream",
     "text": [
      "l eat three oranges\n",
      "l eat three      oranges\n"
     ]
    }
   ],
   "source": [
    "# 문자열 표식 : %s\n",
    "\n",
    "stra = \"three\"\n",
    "print(\"l eat %s oranges\" % stra)\n",
    "\n",
    "# 좌측정렬, 10자리수\n",
    "print(\"l eat %-10s oranges\" % stra)"
   ]
  },
  {
   "cell_type": "code",
   "execution_count": 95,
   "id": "658971a7",
   "metadata": {},
   "outputs": [
    {
     "name": "stdout",
     "output_type": "stream",
     "text": [
      "pi = 3.141592\n",
      "pi = 3.142     \n"
     ]
    }
   ],
   "source": [
    "# 실수형 표식 : %f\n",
    "\n",
    "pi = 3.1415924\n",
    "print(\"pi = %f\" % pi)\n",
    "\n",
    "# 소숫점 3자리, 10자리 확보, 좌측정렬\n",
    "print(\"pi = %-10.3f\" %pi)"
   ]
  },
  {
   "cell_type": "code",
   "execution_count": 96,
   "id": "93071eab",
   "metadata": {},
   "outputs": [
    {
     "name": "stdout",
     "output_type": "stream",
     "text": [
      "이름 : 홍길동나이 : 30\n",
      "이름 : 홍길동 나이 : 30\n"
     ]
    }
   ],
   "source": [
    "# + 연산자를 이용한 포매팅 - 표식을 사용한 포매팅\n",
    "name = \"홍길동\"\n",
    "age = 30\n",
    "print(\"이름 : \"+ name + \"나이 : \" + str(age))\n",
    "print(\"이름 : %s 나이 : %d\" % (name, age))"
   ]
  },
  {
   "cell_type": "markdown",
   "id": "9dfcce4e",
   "metadata": {},
   "source": [
    "### 3) format 함수를 사용한 포매팅"
   ]
  },
  {
   "cell_type": "code",
   "execution_count": 97,
   "id": "999d1d1c",
   "metadata": {},
   "outputs": [
    {
     "name": "stdout",
     "output_type": "stream",
     "text": [
      "a : 10 b: 20 c 30\n"
     ]
    }
   ],
   "source": [
    "print(\"a : {} b: {} c {}\".format(10, 20, 30))"
   ]
  },
  {
   "cell_type": "code",
   "execution_count": 98,
   "id": "15aeb953",
   "metadata": {},
   "outputs": [
    {
     "name": "stdout",
     "output_type": "stream",
     "text": [
      "홍길동 30 hong@hotmail.com\n"
     ]
    }
   ],
   "source": [
    "# 변수로 대입\n",
    "name = \"홍길동\"\n",
    "age = 30\n",
    "email = \"hong@hotmail.com\"\n",
    "\n",
    "print(\"{} {} {}\".format(name, age, email))"
   ]
  },
  {
   "cell_type": "code",
   "execution_count": 102,
   "id": "bc84d59c",
   "metadata": {},
   "outputs": [
    {
     "name": "stdout",
     "output_type": "stream",
     "text": [
      "30 hong@hotmail.com 홍길동\n",
      "name : 홍길동, age : 30\n"
     ]
    }
   ],
   "source": [
    "# 순서 변경\n",
    "\n",
    "print(\"{1} {2} {0}\".format(name, age, email))\n",
    "print(\"name : {name}, age : {age}\".format(name=\"홍길동\",age=30))"
   ]
  },
  {
   "cell_type": "code",
   "execution_count": 104,
   "id": "a4f5eba2",
   "metadata": {},
   "outputs": [
    {
     "name": "stdout",
     "output_type": "stream",
     "text": [
      "30 hong@hotmail.com                            홍길동              \n"
     ]
    }
   ],
   "source": [
    "# 정렬 {>: 우측,<:좌측, ^: 중앙}\n",
    "\n",
    "print(\"{1:>} {2:<30} {0:^30}\".format(name, age, email))"
   ]
  },
  {
   "cell_type": "code",
   "execution_count": 106,
   "id": "8a04eebb",
   "metadata": {},
   "outputs": [
    {
     "name": "stdout",
     "output_type": "stream",
     "text": [
      "    3.1416\n"
     ]
    }
   ],
   "source": [
    "# 실수\n",
    "pi = 3.141593\n",
    "print(\"{0:10.4f}\".format(pi))"
   ]
  },
  {
   "cell_type": "markdown",
   "id": "8214de2c",
   "metadata": {},
   "source": [
    "### 3) f 문자열을 사용한 포매팅"
   ]
  },
  {
   "cell_type": "code",
   "execution_count": 111,
   "id": "231d5e2a",
   "metadata": {},
   "outputs": [
    {
     "name": "stdout",
     "output_type": "stream",
     "text": [
      "이름 : 홍길동, 나이 : 30\n",
      "이름 :    홍길동    , 나이 : 30        , 키 :-----178.5\n"
     ]
    }
   ],
   "source": [
    "# 기본 문장\n",
    "name = \"홍길동\"\n",
    "age = 30 \n",
    "height = 178.5\n",
    "\n",
    "print(f\"이름 : {name}, 나이 : {age}\")\n",
    "print(f\"이름 : {name:^10s}, 나이 : {age:<10d}, 키 :{height:->10.1f}\")"
   ]
  },
  {
   "cell_type": "markdown",
   "id": "183352bd",
   "metadata": {},
   "source": [
    "## 5) 4가지 포매팅 활용 예제"
   ]
  },
  {
   "cell_type": "code",
   "execution_count": 117,
   "id": "8635f01d",
   "metadata": {},
   "outputs": [
    {
     "ename": "SyntaxError",
     "evalue": "unterminated string literal (detected at line 14) (1743373245.py, line 14)",
     "output_type": "error",
     "traceback": [
      "\u001b[1;36m  Cell \u001b[1;32mIn[117], line 14\u001b[1;36m\u001b[0m\n\u001b[1;33m    print(f\"이름 \" {name}, 나이 : {age}세, email : {eamil}\")\u001b[0m\n\u001b[1;37m                                                     ^\u001b[0m\n\u001b[1;31mSyntaxError\u001b[0m\u001b[1;31m:\u001b[0m unterminated string literal (detected at line 14)\n"
     ]
    }
   ],
   "source": [
    "# 출력 \n",
    "# 이름 : 홍길동, 나이 : 30세, email :hong@hotmail.com\n",
    "name = \"홍길동\"\n",
    "age = 30 \n",
    "email = \"hong@hotmail.com\"\n",
    "# + 연산자\n",
    "print(\"이름 : \" + name + \", 나이 : \" + str(age)+ \"세, email : \" + email)\n",
    "\n",
    "# 표식\n",
    "print(\"이름 : %s, 나이 : %d세, email : %s\" %(name, age, email))\n",
    "#format 메서드\n",
    "print(\"이름 : {}, skdl : {}세, email : {}\".format(name, age, email))\n",
    "# f 문자열\n",
    "print(f\"이름 \" {name}, 나이 : {age}세, email : {eamil}\")"
   ]
  },
  {
   "cell_type": "code",
   "execution_count": null,
   "id": "47a39c97",
   "metadata": {},
   "outputs": [],
   "source": []
  },
  {
   "cell_type": "code",
   "execution_count": null,
   "id": "0455a9b9",
   "metadata": {},
   "outputs": [],
   "source": []
  },
  {
   "cell_type": "code",
   "execution_count": null,
   "id": "9f2671d5",
   "metadata": {},
   "outputs": [],
   "source": []
  },
  {
   "cell_type": "code",
   "execution_count": null,
   "id": "d7ac6b2b",
   "metadata": {},
   "outputs": [],
   "source": []
  },
  {
   "cell_type": "code",
   "execution_count": null,
   "id": "523bfe41",
   "metadata": {},
   "outputs": [],
   "source": []
  }
 ],
 "metadata": {
  "kernelspec": {
   "display_name": "Python 3 (ipykernel)",
   "language": "python",
   "name": "python3"
  },
  "language_info": {
   "codemirror_mode": {
    "name": "ipython",
    "version": 3
   },
   "file_extension": ".py",
   "mimetype": "text/x-python",
   "name": "python",
   "nbconvert_exporter": "python",
   "pygments_lexer": "ipython3",
   "version": "3.10.6"
  }
 },
 "nbformat": 4,
 "nbformat_minor": 5
}
