{
 "cells": [
  {
   "cell_type": "markdown",
   "id": "849b2fc2",
   "metadata": {},
   "source": [
    "## 1.대입 연산자"
   ]
  },
  {
   "cell_type": "code",
   "execution_count": 2,
   "id": "5375d733",
   "metadata": {},
   "outputs": [
    {
     "name": "stdout",
     "output_type": "stream",
     "text": [
      "8\n",
      "8\n"
     ]
    }
   ],
   "source": [
    "a = 3\n",
    "b = 5\n",
    "c = a + b\n",
    "print(c)\n",
    "\n",
    "def color(a, b):\n",
    "    return a + b\n",
    "\n",
    "funca = color(a,b)\n",
    "print(funca)"
   ]
  },
  {
   "cell_type": "code",
   "execution_count": 7,
   "id": "2e479386",
   "metadata": {},
   "outputs": [
    {
     "name": "stdout",
     "output_type": "stream",
     "text": [
      "15\n"
     ]
    }
   ],
   "source": [
    "a = 10\n",
    "a += 5\n",
    "print(a)"
   ]
  },
  {
   "cell_type": "markdown",
   "id": "c0f16d1c",
   "metadata": {},
   "source": [
    "##2. 타입 변환"
   ]
  },
  {
   "cell_type": "code",
   "execution_count": null,
   "id": "8a283856",
   "metadata": {},
   "outputs": [],
   "source": [
    "a = 10\n",
    "name = input(\"이름을 입력하세요\")\n",
    "age = input(\"나이를 입력하세요\")\n",
    "\n",
    "print(\"이름\" : \", name, \"나이 :\", age)\n",
    "print(\"이름\" : \", name, \"10년 후 나이 :\", int(age) + a)\n",
    "print(\"이름\" : \" +  name + \"10년 후 나이 :\" + (age) atr(a))\n",
    "print(\"이름\" : \" +  name + \"10년 후 나이 :\" + str(int(age)) + (a))\n",
    "      \n",
    "      \n",
    "      \n",
    "\n"
   ]
  },
  {
   "cell_type": "code",
   "execution_count": null,
   "id": "d7b17d1d",
   "metadata": {},
   "outputs": [],
   "source": []
  },
  {
   "cell_type": "code",
   "execution_count": null,
   "id": "d5609e61",
   "metadata": {},
   "outputs": [],
   "source": []
  },
  {
   "cell_type": "code",
   "execution_count": null,
   "id": "0536d087",
   "metadata": {},
   "outputs": [],
   "source": []
  },
  {
   "cell_type": "code",
   "execution_count": null,
   "id": "e8c3b3b9",
   "metadata": {},
   "outputs": [],
   "source": []
  },
  {
   "cell_type": "code",
   "execution_count": null,
   "id": "54bdc55f",
   "metadata": {},
   "outputs": [],
   "source": []
  },
  {
   "cell_type": "code",
   "execution_count": null,
   "id": "1b640915",
   "metadata": {},
   "outputs": [],
   "source": []
  }
 ],
 "metadata": {
  "kernelspec": {
   "display_name": "Python 3 (ipykernel)",
   "language": "python",
   "name": "python3"
  },
  "language_info": {
   "codemirror_mode": {
    "name": "ipython",
    "version": 3
   },
   "file_extension": ".py",
   "mimetype": "text/x-python",
   "name": "python",
   "nbconvert_exporter": "python",
   "pygments_lexer": "ipython3",
   "version": "3.10.6"
  }
 },
 "nbformat": 4,
 "nbformat_minor": 5
}
