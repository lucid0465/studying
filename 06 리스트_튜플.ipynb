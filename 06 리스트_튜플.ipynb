{
 "cells": [
  {
   "cell_type": "markdown",
   "id": "f91e0273",
   "metadata": {},
   "source": [
    "### 1.리스트\n",
    "\n",
    "### 1)리스트 생성"
   ]
  },
  {
   "cell_type": "code",
   "execution_count": 7,
   "id": "3e09e040",
   "metadata": {},
   "outputs": [],
   "source": [
    "a = []\n",
    "b = [\"yellow\", \"red\", \"white\"]\n",
    "c = [1, 2, 3, 4, 5]\n",
    "d = [1, 2, 3, \"yellow\", True, 4]"
   ]
  },
  {
   "cell_type": "code",
   "execution_count": 8,
   "id": "8cae9321",
   "metadata": {},
   "outputs": [
    {
     "name": "stdout",
     "output_type": "stream",
     "text": [
      "[]\n",
      "[1, 2, 3, 'yellow', True, 4]\n",
      "<class 'list'>\n",
      "<class 'list'>\n"
     ]
    }
   ],
   "source": [
    "print(a)\n",
    "print(d)\n",
    "\n",
    "print(type(b))\n",
    "print(type(c))"
   ]
  },
  {
   "cell_type": "code",
   "execution_count": 9,
   "id": "0f7449e0",
   "metadata": {},
   "outputs": [
    {
     "name": "stdout",
     "output_type": "stream",
     "text": [
      "[]\n",
      "['H', 'e', 'l', 'l', 'o']\n"
     ]
    }
   ],
   "source": [
    "e = list()\n",
    "print(e)\n",
    "\n",
    "f = list(\"Hello\")\n",
    "print(f)"
   ]
  },
  {
   "cell_type": "markdown",
   "id": "a397333c",
   "metadata": {},
   "source": [
    "### 2) 인덱싱/슬라이싱"
   ]
  },
  {
   "cell_type": "code",
   "execution_count": 11,
   "id": "685d16c4",
   "metadata": {},
   "outputs": [
    {
     "name": "stdout",
     "output_type": "stream",
     "text": [
      "1\n",
      "9\n",
      "3\n",
      "[1, 2, 3]\n",
      "[2, 3, 4, 5, 6, 7, 8, 9]\n",
      "[3, 4, 5, 6]\n",
      "[1, 2, 3, 4, 5, 6, 7, 8, 9]\n",
      "[8, 9]\n"
     ]
    }
   ],
   "source": [
    "\n",
    "a = [1, 2, 3, 4, 5, 6, 7, 8, 9]\n",
    "\n",
    "print(a[0])\n",
    "print(a[-1])\n",
    "print(a[2])\n",
    "\n",
    "print(a[:3])\n",
    "print(a[1:])\n",
    "print(a[2:6])\n",
    "print(a[::])\n",
    "print(a[-2:])"
   ]
  },
  {
   "cell_type": "markdown",
   "id": "6157ed2c",
   "metadata": {},
   "source": [
    "### 3) 변경 / 삭제"
   ]
  },
  {
   "cell_type": "code",
   "execution_count": 15,
   "id": "bef27bf9",
   "metadata": {},
   "outputs": [
    {
     "name": "stdout",
     "output_type": "stream",
     "text": [
      "20\n",
      "[10, 100, 'AB', 40, 3.14, 60]\n",
      "[10, 100, 'AB', 1, 5, 60]\n",
      "[10, 100, 'AB', 1000, 2000, 3000, 5, 60]\n"
     ]
    }
   ],
   "source": [
    "# 인덱싱을 이용한 변경\n",
    "points = [10, 20, \"AB\", 40, 3.14, 60]\n",
    "\n",
    "print(points[1])\n",
    "points[1] = 100\n",
    "print(points)\n",
    "\n",
    "# 슬라이싱을 이용한 변경\n",
    "points[3:5] = [1, 5]\n",
    "print(points)\n",
    "\n",
    "points[3:4] = [1000, 2000, 3000]\n",
    "print(points)"
   ]
  },
  {
   "cell_type": "code",
   "execution_count": 20,
   "id": "ad29296d",
   "metadata": {},
   "outputs": [
    {
     "name": "stdout",
     "output_type": "stream",
     "text": [
      "[10, 'AB', 40, 3.14, 60]\n",
      "[10, 3.14, 60]\n"
     ]
    }
   ],
   "source": [
    "# 리스트 요소 값 삭제 : 슬라이싱\n",
    "points = [10, 20, \"AB\", 40, 3.14, 60]\n",
    "\n",
    "points[1:2] = []\n",
    "print(points)\n",
    "\n",
    "points[1:3] = []\n",
    "print(points)\n",
    "\n"
   ]
  },
  {
   "cell_type": "markdown",
   "id": "d0f89863",
   "metadata": {},
   "source": [
    "### 4) 리스트 연결"
   ]
  },
  {
   "cell_type": "code",
   "execution_count": 42,
   "id": "a2c6d130",
   "metadata": {},
   "outputs": [
    {
     "name": "stdout",
     "output_type": "stream",
     "text": [
      "['A', 'B', 'C', 'D', '1', '2', '3', '4', 10, 20, 30]\n",
      "['A', 'B', 'C', 'D']\n",
      "['1', '2', '3', '4']\n",
      "[10, 20, 30]\n"
     ]
    }
   ],
   "source": [
    "lista = [\"A\", \"B\", \"C\", \"D\"]\n",
    "listb = [\"1\", \"2\", \"3\", \"4\"]\n",
    "listc = [10, 20, 30]\n",
    "lista + listb + listc\n",
    "\n",
    "print(lista + listb + listc)\n",
    "print(lista)\n",
    "print(listb)\n",
    "print(listc)"
   ]
  },
  {
   "cell_type": "markdown",
   "id": "9494a17c",
   "metadata": {},
   "source": [
    "### 5) 이중 리스트"
   ]
  },
  {
   "cell_type": "code",
   "execution_count": 25,
   "id": "8ad87ae1",
   "metadata": {},
   "outputs": [
    {
     "name": "stdout",
     "output_type": "stream",
     "text": [
      "[10, 20, [31, 32, 33], 40, ['A', 'B', 'C'], 50, 60]\n",
      "<class 'list'>\n",
      "10 20 [31, 32, 33] 40 ['A', 'B', 'C'] 50 60\n",
      "-----------------------------------\n",
      "[31, 32, 33]\n",
      "32\n",
      "A\n"
     ]
    }
   ],
   "source": [
    "points = [10, 20, [31, 32, 33], 40, [\"A\", \"B\", \"C\"], 50, 60]\n",
    "print(points)\n",
    "print(type(points))\n",
    "\n",
    "print(points[0], points[1], points[2], points[3], points[4], points[5], points[6])\n",
    "print(\"-----------------------------------\")\n",
    "print(points[2])\n",
    "print(points[2][1])\n",
    "print(points[4][0])"
   ]
  },
  {
   "cell_type": "code",
   "execution_count": 33,
   "id": "abb786ab",
   "metadata": {},
   "outputs": [
    {
     "name": "stdout",
     "output_type": "stream",
     "text": [
      "2\n",
      "['a', 'b', [100, 200, 300]]\n",
      "b\n",
      "[100, 200, 300]\n",
      "300\n"
     ]
    }
   ],
   "source": [
    "a = [1, 2, 3,['a', 'b', [100, 200, 300]], 'hellow', 'python']\n",
    "# 2 추출\n",
    "print(a[1])\n",
    "# 'b' 추출\n",
    "print(a[3])\n",
    "print(a[3][1])\n",
    "#300 추출\n",
    "print(a[3][2])\n",
    "print(a[3][2][2])\n",
    "\n",
    "\n",
    "\n"
   ]
  },
  {
   "cell_type": "code",
   "execution_count": 35,
   "id": "7ce35d62",
   "metadata": {},
   "outputs": [
    {
     "name": "stdout",
     "output_type": "stream",
     "text": [
      "[[31, 32, 33], 40]\n"
     ]
    }
   ],
   "source": [
    "# 슬라이싱\n",
    "points = [10, 20, [31, 32, 33], 40, [\"A\", \"B\", \"C\"], 50, 60]\n",
    "\n",
    "print(points[2:4])"
   ]
  },
  {
   "cell_type": "markdown",
   "id": "1f60ce5f",
   "metadata": {},
   "source": [
    "### 6) 리스트 컴프리헨션"
   ]
  },
  {
   "cell_type": "code",
   "execution_count": 39,
   "id": "5f5ce514",
   "metadata": {},
   "outputs": [
    {
     "name": "stdout",
     "output_type": "stream",
     "text": [
      "[10, 20, 30, 40, 50, 60, 70, 80, 90, 100]\n",
      "[70, 80, 90, 100]\n",
      "[140, 160, 180, 200]\n"
     ]
    }
   ],
   "source": [
    "points = [10, 20, 30, 40, 50, 60, 70, 80, 90, 100]\n",
    "print([item for item in points])\n",
    "print([item for item in points if item > 60])\n",
    "print([item * 2 for item in points if item > 60])"
   ]
  },
  {
   "cell_type": "markdown",
   "id": "d01c6dd2",
   "metadata": {},
   "source": [
    "## 7) 리스트 메서드"
   ]
  },
  {
   "cell_type": "code",
   "execution_count": 44,
   "id": "5effeec2",
   "metadata": {},
   "outputs": [
    {
     "name": "stdout",
     "output_type": "stream",
     "text": [
      "[1, 2, 3, 4, 5, 11]\n",
      "[1, 2, 3, 4, 5, 100, 11]\n",
      "[1, 2, 3, 4, 5, 100, 11, 'A', 'B', 'C', 'D']\n",
      "['A', 'B', 'C', 'D']\n"
     ]
    }
   ],
   "source": [
    "# 추가 : append, insert, extend\n",
    "\n",
    "a = [1, 2, 3, 4, 5]\n",
    "a.append(11)\n",
    "\n",
    "print(a)\n",
    "\n",
    "a.insert(5, 100)\n",
    "print(a)\n",
    "\n",
    "b = ['A', 'B', 'C', 'D']\n",
    "a.extend(b)\n",
    "print(a)\n",
    "print(b)"
   ]
  },
  {
   "cell_type": "markdown",
   "id": "bd4bc20f",
   "metadata": {},
   "source": [
    "### 8) 리스트 삭제"
   ]
  },
  {
   "cell_type": "code",
   "execution_count": 50,
   "id": "a117c62f",
   "metadata": {},
   "outputs": [
    {
     "name": "stdout",
     "output_type": "stream",
     "text": [
      "['b', 'c', 'd', 'e', 'f', 'g', 'h', 'i', 'j', 'a', 'b', 'c']\n",
      "['b', 'c', 'd', 'e', 'f', 'g', 'h', 'i', 'j', 'b', 'c']\n",
      "['b', 'c', 'd', 'e', 'f', 'g', 'h', 'i', 'j', 'b']\n",
      "-------------------------\n",
      "['b', 'c', 'e', 'f', 'g', 'h', 'i', 'j', 'b']\n",
      "['b', 'c', 'e', 'g', 'h', 'i', 'j', 'b']\n",
      "['b', 'c', 'e', 'j', 'b']\n"
     ]
    }
   ],
   "source": [
    "a = ['a', 'b', 'c', 'd', 'e', 'f', 'g', 'h', 'i', 'j', 'a', 'b', 'c']\n",
    "\n",
    "a.remove('a')\n",
    "print(a)\n",
    "a.remove('a')\n",
    "print(a)\n",
    "\n",
    "a.pop()\n",
    "print(a)\n",
    "print(\"-------------------------\")\n",
    "a.pop(2)\n",
    "print(a)\n",
    "\n",
    "del(a[3])\n",
    "print(a)\n",
    "\n",
    "del(a[3:6])\n",
    "print(a)"
   ]
  },
  {
   "cell_type": "markdown",
   "id": "18df5e15",
   "metadata": {},
   "source": [
    "### 9) 검색"
   ]
  },
  {
   "cell_type": "code",
   "execution_count": 101,
   "id": "b81bdf43",
   "metadata": {},
   "outputs": [
    {
     "name": "stdout",
     "output_type": "stream",
     "text": [
      "1\n",
      "11\n",
      "2\n"
     ]
    }
   ],
   "source": [
    "# index, count\n",
    "\n",
    "a = ['a', 'b', 'c', 'd', 'e', 'f', 'g', 'h', 'i', 'j', 'a', 'b', 'c']\n",
    "\n",
    "print(a.index('b'))\n",
    "print(a.index('b',3))\n",
    "print(a.count('b'))\n",
    "\n",
    "\n",
    "\n",
    "\n"
   ]
  },
  {
   "cell_type": "code",
   "execution_count": 58,
   "id": "e8d240eb",
   "metadata": {},
   "outputs": [
    {
     "name": "stdout",
     "output_type": "stream",
     "text": [
      "13\n",
      "10 70\n"
     ]
    }
   ],
   "source": [
    "# len, min, max\n",
    "b = [10, 20, 30, 40 , 50, 60, 70]\n",
    "\n",
    "print(len(a))\n",
    "print(min(b), max(b))\n"
   ]
  },
  {
   "cell_type": "code",
   "execution_count": 62,
   "id": "ddd1f966",
   "metadata": {},
   "outputs": [
    {
     "name": "stdout",
     "output_type": "stream",
     "text": [
      "True\n",
      "False\n"
     ]
    }
   ],
   "source": [
    "# in, not in\n",
    "print(30 in b)\n",
    "print(\"f\" not in a)"
   ]
  },
  {
   "cell_type": "markdown",
   "id": "1bc11d51",
   "metadata": {},
   "source": [
    "### 10) 정렬"
   ]
  },
  {
   "cell_type": "code",
   "execution_count": 66,
   "id": "5ba5022d",
   "metadata": {},
   "outputs": [
    {
     "name": "stdout",
     "output_type": "stream",
     "text": [
      "['a', 'a', 'b', 'b', 'c', 'c', 'd', 'e', 'f', 'g', 'h', 'i', 'j']\n",
      "['j', 'i', 'h', 'g', 'f', 'e', 'd', 'c', 'c', 'b', 'b', 'a', 'a']\n"
     ]
    }
   ],
   "source": [
    "# sort, reverse\n",
    "a = ['a', 'b', 'c', 'd', 'e', 'f', 'g', 'h', 'i', 'j', 'a', 'b', 'c']\n",
    "a.sort()\n",
    "print(a)\n",
    "\n",
    "a.sort(reverse=True)\n",
    "print(a)\n"
   ]
  },
  {
   "cell_type": "code",
   "execution_count": 67,
   "id": "f7ccbffc",
   "metadata": {},
   "outputs": [
    {
     "name": "stdout",
     "output_type": "stream",
     "text": [
      "['c', 'b', 'a', 'j', 'i', 'h', 'g', 'f', 'e', 'd', 'c', 'b', 'a']\n"
     ]
    }
   ],
   "source": [
    "# reverse\n",
    "a = ['a', 'b', 'c', 'd', 'e', 'f', 'g', 'h', 'i', 'j', 'a', 'b', 'c']\n",
    "\n",
    "a.reverse()\n",
    "print(a)"
   ]
  },
  {
   "cell_type": "code",
   "execution_count": 76,
   "id": "c7244649",
   "metadata": {},
   "outputs": [
    {
     "name": "stdout",
     "output_type": "stream",
     "text": [
      "['a', 'a', 'b', 'b', 'c', 'c', 'd', 'e', 'f', 'g', 'h', 'i', 'j']\n",
      "['j', 'i', 'h', 'g', 'f', 'e', 'd', 'c', 'c', 'b', 'b', 'a', 'a']\n",
      "['c', 'b', 'a', 'j', 'i', 'h', 'g', 'f', 'e', 'd', 'c', 'b', 'a']\n"
     ]
    }
   ],
   "source": [
    "# sorted : 소팅된 리스트를 리턴, 원본은 그대로\n",
    "\n",
    "print(sorted(a))\n",
    "print(sorted(a, reverse=True))\n",
    "print(a)"
   ]
  },
  {
   "cell_type": "code",
   "execution_count": 69,
   "id": "392609ff",
   "metadata": {},
   "outputs": [
    {
     "data": {
      "text/plain": [
       "['__add__',\n",
       " '__class__',\n",
       " '__class_getitem__',\n",
       " '__contains__',\n",
       " '__delattr__',\n",
       " '__delitem__',\n",
       " '__dir__',\n",
       " '__doc__',\n",
       " '__eq__',\n",
       " '__format__',\n",
       " '__ge__',\n",
       " '__getattribute__',\n",
       " '__getitem__',\n",
       " '__gt__',\n",
       " '__hash__',\n",
       " '__iadd__',\n",
       " '__imul__',\n",
       " '__init__',\n",
       " '__init_subclass__',\n",
       " '__iter__',\n",
       " '__le__',\n",
       " '__len__',\n",
       " '__lt__',\n",
       " '__mul__',\n",
       " '__ne__',\n",
       " '__new__',\n",
       " '__reduce__',\n",
       " '__reduce_ex__',\n",
       " '__repr__',\n",
       " '__reversed__',\n",
       " '__rmul__',\n",
       " '__setattr__',\n",
       " '__setitem__',\n",
       " '__sizeof__',\n",
       " '__str__',\n",
       " '__subclasshook__',\n",
       " 'append',\n",
       " 'clear',\n",
       " 'copy',\n",
       " 'count',\n",
       " 'extend',\n",
       " 'index',\n",
       " 'insert',\n",
       " 'pop',\n",
       " 'remove',\n",
       " 'reverse',\n",
       " 'sort']"
      ]
     },
     "execution_count": 69,
     "metadata": {},
     "output_type": "execute_result"
    }
   ],
   "source": [
    "dir([])"
   ]
  },
  {
   "cell_type": "code",
   "execution_count": 71,
   "id": "6350b062",
   "metadata": {},
   "outputs": [
    {
     "name": "stdout",
     "output_type": "stream",
     "text": [
      "Help on built-in function print in module builtins:\n",
      "\n",
      "print(...)\n",
      "    print(value, ..., sep=' ', end='\\n', file=sys.stdout, flush=False)\n",
      "    \n",
      "    Prints the values to a stream, or to sys.stdout by default.\n",
      "    Optional keyword arguments:\n",
      "    file:  a file-like object (stream); defaults to the current sys.stdout.\n",
      "    sep:   string inserted between values, default a space.\n",
      "    end:   string appended after the last value, default a newline.\n",
      "    flush: whether to forcibly flush the stream.\n",
      "\n"
     ]
    }
   ],
   "source": [
    "help(print)"
   ]
  },
  {
   "cell_type": "markdown",
   "id": "e160fffe",
   "metadata": {},
   "source": [
    "## 2.튜플\n",
    "\n",
    "### 1) 튜플 생성"
   ]
  },
  {
   "cell_type": "code",
   "execution_count": 81,
   "id": "7ee5c7ac",
   "metadata": {},
   "outputs": [
    {
     "name": "stdout",
     "output_type": "stream",
     "text": [
      "()\n",
      "()\n",
      "(1,)\n",
      "('a', 'b', 'c')\n",
      "<class 'tuple'>\n"
     ]
    }
   ],
   "source": [
    "a = ()\n",
    "b = tuple()\n",
    "c = (1, )\n",
    "d= ('a', 'b','c')\n",
    "    \n",
    "print(a)\n",
    "print(b)\n",
    "print(c)\n",
    "print(d)\n",
    "    \n",
    "print(type(a))"
   ]
  },
  {
   "cell_type": "markdown",
   "id": "7f8b4557",
   "metadata": {},
   "source": [
    "### 2) 튜플로 가능한 일"
   ]
  },
  {
   "cell_type": "code",
   "execution_count": 85,
   "id": "202b380f",
   "metadata": {},
   "outputs": [
    {
     "name": "stdout",
     "output_type": "stream",
     "text": [
      "(1, 2, 3, 4, 5, 6)\n",
      "(1, 2, 3, 1, 2, 3)\n"
     ]
    }
   ],
   "source": [
    "# +, *\n",
    "a = (1,2,3)\n",
    "b = (4,5,6)\n",
    "\n",
    "print(a + b)\n",
    "print(a * 2)"
   ]
  },
  {
   "cell_type": "code",
   "execution_count": 92,
   "id": "0b609cf8",
   "metadata": {},
   "outputs": [
    {
     "name": "stdout",
     "output_type": "stream",
     "text": [
      "<class 'tuple'>\n",
      "(1, 2, 3)\n",
      "1 2 3\n",
      "----------------------------------\n",
      "2 1\n"
     ]
    }
   ],
   "source": [
    "# 여러 개 변수 대입 / 초기화\n",
    "nums = 1,2,3\n",
    "print(type(nums))\n",
    "print(nums)\n",
    "\n",
    "a, b, c = nums\n",
    "print(a, b, c)\n",
    "\n",
    "print(\"----------------------------------\")\n",
    "a, b = b, a\n",
    "print(a, b)"
   ]
  },
  {
   "cell_type": "code",
   "execution_count": 97,
   "id": "94a6e928",
   "metadata": {},
   "outputs": [
    {
     "name": "stdout",
     "output_type": "stream",
     "text": [
      "(30, -10, 200, 0.5)\n",
      "30 -10 200 0.5\n"
     ]
    }
   ],
   "source": [
    "# 함수 리턴값 \n",
    "\n",
    "def calc(a,b):\n",
    "    return a + b, a - b, a * b, a / b\n",
    "\n",
    "print(calc(10, 20))\n",
    "a, b, c, d = calc(10, 20)\n",
    "\n",
    "print(a, b, c, d)"
   ]
  },
  {
   "cell_type": "markdown",
   "id": "1c6fbdf7",
   "metadata": {},
   "source": [
    "### 3) 튜플 메서드"
   ]
  },
  {
   "cell_type": "code",
   "execution_count": 102,
   "id": "b7dcc33f",
   "metadata": {},
   "outputs": [
    {
     "name": "stdout",
     "output_type": "stream",
     "text": [
      "1\n",
      "11\n",
      "2\n"
     ]
    }
   ],
   "source": [
    "# index, count\n",
    "a = ['a', 'b', 'c', 'd', 'e', 'f', 'g', 'h', 'i', 'j', 'a', 'b', 'c']\n",
    "\n",
    "print(a.index('b'))\n",
    "print(a.index('b',3))\n",
    "print(a.count('b'))"
   ]
  },
  {
   "cell_type": "code",
   "execution_count": 103,
   "id": "6d90f0a2",
   "metadata": {},
   "outputs": [
    {
     "name": "stdout",
     "output_type": "stream",
     "text": [
      "13\n",
      "10 70\n"
     ]
    }
   ],
   "source": [
    "# len, min, max\n",
    "b = [10, 20, 30, 40 , 50, 60, 70]\n",
    "\n",
    "print(len(a))\n",
    "print(min(b), max(b))"
   ]
  },
  {
   "cell_type": "code",
   "execution_count": 1,
   "id": "7aee820a",
   "metadata": {},
   "outputs": [
    {
     "name": "stdout",
     "output_type": "stream",
     "text": [
      "['a', 'a', 'b', 'b', 'c', 'c', 'd', 'e', 'f', 'g', 'h', 'i', 'j']\n",
      "['j', 'i', 'h', 'g', 'f', 'e', 'd', 'c', 'c', 'b', 'b', 'a', 'a']\n",
      "('a', 'b', 'c', 'd', 'e', 'f', 'g', 'h', 'i', 'j', 'a', 'b', 'c')\n"
     ]
    }
   ],
   "source": [
    "# sorted : 소팅된 리스트를 리턴, 원본은 그대로\n",
    "a = ('a', 'b', 'c', 'd', 'e', 'f', 'g', 'h','i', 'j', 'a','b','c')\n",
    "\n",
    "print(sorted(a))\n",
    "print(sorted(a, reverse=True))\n",
    "print(a)"
   ]
  },
  {
   "cell_type": "code",
   "execution_count": 105,
   "id": "ca416948",
   "metadata": {},
   "outputs": [
    {
     "name": "stdout",
     "output_type": "stream",
     "text": [
      "<class 'tuple'>\n",
      "<class 'list'>\n",
      "(1, 2, 3)\n",
      "[1, 2, 3]\n",
      "(1, 2, 3, 100)\n"
     ]
    }
   ],
   "source": [
    "# tuple()\n",
    "a = (1, 2, 3)\n",
    "b = list(a)\n",
    "\n",
    "print(type(a))\n",
    "print(type(b))\n",
    "print(a)\n",
    "print(b)\n",
    "\n",
    "b.append(100)\n",
    "c = tuple(b)\n",
    "print(c)"
   ]
  },
  {
   "cell_type": "code",
   "execution_count": null,
   "id": "92b451d9",
   "metadata": {},
   "outputs": [],
   "source": []
  },
  {
   "cell_type": "code",
   "execution_count": null,
   "id": "7e752514",
   "metadata": {},
   "outputs": [],
   "source": []
  }
 ],
 "metadata": {
  "kernelspec": {
   "display_name": "Python 3 (ipykernel)",
   "language": "python",
   "name": "python3"
  },
  "language_info": {
   "codemirror_mode": {
    "name": "ipython",
    "version": 3
   },
   "file_extension": ".py",
   "mimetype": "text/x-python",
   "name": "python",
   "nbconvert_exporter": "python",
   "pygments_lexer": "ipython3",
   "version": "3.10.6"
  }
 },
 "nbformat": 4,
 "nbformat_minor": 5
}
