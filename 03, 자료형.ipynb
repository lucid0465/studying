{
 "cells": [
  {
   "cell_type": "markdown",
   "id": "def32315",
   "metadata": {},
   "source": [
    "# 1. 숫자형"
   ]
  },
  {
   "cell_type": "markdown",
   "id": "8da6dcd3",
   "metadata": {},
   "source": [
    "# 1) 정수형,실수형 대입"
   ]
  },
  {
   "cell_type": "code",
   "execution_count": 1,
   "id": "2cc3bad9",
   "metadata": {},
   "outputs": [
    {
     "name": "stdout",
     "output_type": "stream",
     "text": [
      "100\n",
      "<class 'int'>\n"
     ]
    }
   ],
   "source": [
    "a = 100\n",
    "\n",
    "print(a)\n",
    "print(type(a))"
   ]
  },
  {
   "cell_type": "code",
   "execution_count": 2,
   "id": "b2d00793",
   "metadata": {},
   "outputs": [
    {
     "name": "stdout",
     "output_type": "stream",
     "text": [
      "-3.14\n",
      "<class 'float'>\n"
     ]
    }
   ],
   "source": [
    "b = -3.14\n",
    "\n",
    "print(b)\n",
    "print(type(b))"
   ]
  },
  {
   "cell_type": "code",
   "execution_count": 3,
   "id": "35f822e8",
   "metadata": {},
   "outputs": [
    {
     "name": "stdout",
     "output_type": "stream",
     "text": [
      "True\n",
      "<class 'bool'>\n"
     ]
    }
   ],
   "source": [
    "c = True\n",
    "\n",
    "print(c)\n",
    "print(type(c))"
   ]
  },
  {
   "cell_type": "markdown",
   "id": "5b995810",
   "metadata": {},
   "source": [
    "## 2) 2,8,16진수"
   ]
  },
  {
   "cell_type": "code",
   "execution_count": 4,
   "id": "76f12b18",
   "metadata": {},
   "outputs": [
    {
     "name": "stdout",
     "output_type": "stream",
     "text": [
      "47\n",
      "15\n",
      "13\n"
     ]
    }
   ],
   "source": [
    "print(0x2f)\n",
    "print(0o17)\n",
    "print(0b1101)"
   ]
  },
  {
   "cell_type": "code",
   "execution_count": 5,
   "id": "dcca87f6",
   "metadata": {},
   "outputs": [
    {
     "name": "stdout",
     "output_type": "stream",
     "text": [
      "0x2f\n",
      "0o17\n",
      "0b1101\n"
     ]
    }
   ],
   "source": [
    "print(hex(47))\n",
    "print(oct(15))\n",
    "print(bin(13))"
   ]
  },
  {
   "cell_type": "markdown",
   "id": "cf4ce79b",
   "metadata": {},
   "source": [
    "## 3) 수치연산"
   ]
  },
  {
   "cell_type": "code",
   "execution_count": 6,
   "id": "07bd28be",
   "metadata": {},
   "outputs": [
    {
     "name": "stdout",
     "output_type": "stream",
     "text": [
      "13 5 36 2.25\n",
      "6561\n",
      "2 1\n"
     ]
    }
   ],
   "source": [
    "a = 9\n",
    "b = 4\n",
    "\n",
    "print(a+b, a-b, a*b, a/b)\n",
    "print(a ** b)\n",
    "print(a//b, a%b)"
   ]
  },
  {
   "cell_type": "code",
   "execution_count": 7,
   "id": "cb1382ff",
   "metadata": {},
   "outputs": [
    {
     "name": "stdout",
     "output_type": "stream",
     "text": [
      "3140.0\n",
      "0.00314\n"
     ]
    }
   ],
   "source": [
    "a = 3.14e3\n",
    "print(a)\n",
    "\n",
    "b = 3.14e-3\n",
    "print(b)"
   ]
  },
  {
   "cell_type": "markdown",
   "id": "3878da90",
   "metadata": {},
   "source": [
    "# 2. 진위형"
   ]
  },
  {
   "cell_type": "code",
   "execution_count": 8,
   "id": "8bf1459e",
   "metadata": {},
   "outputs": [
    {
     "name": "stdout",
     "output_type": "stream",
     "text": [
      "<class 'bool'>\n",
      "<class 'bool'>\n"
     ]
    }
   ],
   "source": [
    "a = True\n",
    "b = False\n",
    "\n",
    "print(type(a))\n",
    "print(type(b))"
   ]
  },
  {
   "cell_type": "code",
   "execution_count": 9,
   "id": "b0e026a8",
   "metadata": {},
   "outputs": [
    {
     "name": "stdout",
     "output_type": "stream",
     "text": [
      "False\n",
      "False\n",
      "False\n",
      "False\n"
     ]
    }
   ],
   "source": [
    "print(bool(\"\"))\n",
    "print(bool([]))\n",
    "print(bool(0))\n",
    "print(bool(None))"
   ]
  },
  {
   "cell_type": "code",
   "execution_count": 10,
   "id": "079e890c",
   "metadata": {},
   "outputs": [
    {
     "name": "stdout",
     "output_type": "stream",
     "text": [
      "참\n"
     ]
    }
   ],
   "source": [
    "a = 3\n",
    "\n",
    "if a >= 3:\n",
    "    print(\"참\")   "
   ]
  },
  {
   "cell_type": "markdown",
   "id": "7fa3677b",
   "metadata": {},
   "source": [
    "# 3. 문자열\n",
    "## 1)문자열 사용"
   ]
  },
  {
   "cell_type": "code",
   "execution_count": 11,
   "id": "c70f905c",
   "metadata": {},
   "outputs": [
    {
     "name": "stdout",
     "output_type": "stream",
     "text": [
      "Hello Python\n",
      "Hello 'Python'\n",
      "Hello \"Python\"\n"
     ]
    }
   ],
   "source": [
    "a = \"Hello Python\"\n",
    "b = \"Hello 'Python'\"\n",
    "c = 'Hello \"Python\"'\n",
    "\n",
    "print(a)\n",
    "print(b)\n",
    "print(c)"
   ]
  },
  {
   "cell_type": "code",
   "execution_count": 12,
   "id": "7b497cef",
   "metadata": {},
   "outputs": [
    {
     "name": "stdout",
     "output_type": "stream",
     "text": [
      "Hello 'Python'\n",
      "Hello \"Python\"\n"
     ]
    }
   ],
   "source": [
    "d = 'Hello \\'Python\\''\n",
    "e = \"Hello \\\"Python\\\"\"\n",
    "print(d)\n",
    "print(e)"
   ]
  },
  {
   "cell_type": "code",
   "execution_count": 13,
   "id": "eae12b35",
   "metadata": {},
   "outputs": [
    {
     "name": "stdout",
     "output_type": "stream",
     "text": [
      " Hello Python\n",
      "Hello World\n",
      "test\n",
      "\n",
      "Hello Python\n",
      "Hello World\n"
     ]
    }
   ],
   "source": [
    "stra = \"\"\" Hello Python\n",
    "Hello World\n",
    "test\n",
    "\"\"\"\n",
    "\n",
    "strb = \"Hello Python\\nHello World\"\n",
    "\n",
    "print(stra)\n",
    "print(strb)"
   ]
  },
  {
   "cell_type": "code",
   "execution_count": 14,
   "id": "2e656107",
   "metadata": {},
   "outputs": [
    {
     "name": "stdout",
     "output_type": "stream",
     "text": [
      "150\n"
     ]
    }
   ],
   "source": [
    "inta = 10 + 20 + 30 + \\\n",
    "40 + 50\n",
    "\n",
    "print(inta)"
   ]
  },
  {
   "cell_type": "markdown",
   "id": "7167afae",
   "metadata": {},
   "source": [
    "## 2) 확장열(이스케이프 코드)"
   ]
  },
  {
   "cell_type": "code",
   "execution_count": 15,
   "id": "4d001b58",
   "metadata": {},
   "outputs": [
    {
     "name": "stdout",
     "output_type": "stream",
     "text": [
      "Hello Python\n",
      "Hello World\n",
      "Hello\t\tPython\n",
      "c:\\KDTwork\\test\n"
     ]
    }
   ],
   "source": [
    "a = \"Hello Python\\nHello World\"\n",
    "b = \"Hello\\t\\tPython\"\n",
    "\n",
    "print(a)\n",
    "print(b)\n",
    "\n",
    "c = \"c:\\KDTwork\\\\test\"\n",
    "print(c)"
   ]
  },
  {
   "cell_type": "markdown",
   "id": "f3cde181",
   "metadata": {},
   "source": [
    "# 3) 문자열 연산"
   ]
  },
  {
   "cell_type": "code",
   "execution_count": 16,
   "id": "a1c65b41",
   "metadata": {},
   "outputs": [
    {
     "name": "stdout",
     "output_type": "stream",
     "text": [
      "Hello Python\n"
     ]
    }
   ],
   "source": [
    "head = \"Hello\"\n",
    "tail = \"Python\"\n",
    "print(head + \" \" + tail)"
   ]
  },
  {
   "cell_type": "code",
   "execution_count": 17,
   "id": "a5f50585",
   "metadata": {},
   "outputs": [
    {
     "name": "stdout",
     "output_type": "stream",
     "text": [
      "----------------------------------------\n"
     ]
    }
   ],
   "source": [
    "stra = \"-\"\n",
    "print(stra * 40)"
   ]
  },
  {
   "cell_type": "code",
   "execution_count": 18,
   "id": "730485ce",
   "metadata": {},
   "outputs": [
    {
     "name": "stdout",
     "output_type": "stream",
     "text": [
      "12\n",
      "4\n"
     ]
    }
   ],
   "source": [
    "print(len(\"Hello Python\"))\n",
    "print(len([1, 2, 3, 'a']))"
   ]
  },
  {
   "cell_type": "markdown",
   "id": "10fc6f73",
   "metadata": {},
   "source": [
    "# 4.컬렉션"
   ]
  },
  {
   "cell_type": "code",
   "execution_count": 19,
   "id": "b0c40770",
   "metadata": {},
   "outputs": [
    {
     "name": "stdout",
     "output_type": "stream",
     "text": [
      "['Seoul', 'NewYork', 'Beijing', 'Tyokyo']\n",
      "도시이름 : Seoul\n",
      "도시이름 : NewYork\n",
      "도시이름 : Beijing\n",
      "도시이름 : Tyokyo\n"
     ]
    }
   ],
   "source": [
    "city = ['Seoul', 'NewYork', 'Beijing', 'Tyokyo']\n",
    "print(city)\n",
    "\n",
    "for item in city:\n",
    "    print(\"도시이름 :\", item)"
   ]
  },
  {
   "cell_type": "code",
   "execution_count": null,
   "id": "20de6830",
   "metadata": {},
   "outputs": [],
   "source": []
  }
 ],
 "metadata": {
  "kernelspec": {
   "display_name": "Python 3 (ipykernel)",
   "language": "python",
   "name": "python3"
  },
  "language_info": {
   "codemirror_mode": {
    "name": "ipython",
    "version": 3
   },
   "file_extension": ".py",
   "mimetype": "text/x-python",
   "name": "python",
   "nbconvert_exporter": "python",
   "pygments_lexer": "ipython3",
   "version": "3.10.6"
  }
 },
 "nbformat": 4,
 "nbformat_minor": 5
}
